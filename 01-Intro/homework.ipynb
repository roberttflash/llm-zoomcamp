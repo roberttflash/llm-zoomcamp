{
 "cells": [
  {
   "cell_type": "code",
   "execution_count": 1,
   "id": "78daab35-dd9f-4e2d-8378-c1d57836098f",
   "metadata": {},
   "outputs": [],
   "source": [
    "import openai"
   ]
  },
  {
   "cell_type": "code",
   "execution_count": 2,
   "id": "320fd2fd-c041-459a-8c13-c7669e74b8b2",
   "metadata": {},
   "outputs": [],
   "source": [
    "from openai import OpenAI"
   ]
  },
  {
   "cell_type": "code",
   "execution_count": 10,
   "id": "3258847f-dc14-47d1-a4be-f809f7588b80",
   "metadata": {},
   "outputs": [],
   "source": [
    "client = OpenAI()"
   ]
  },
  {
   "cell_type": "code",
   "execution_count": 11,
   "id": "ada50019-dcd9-4f63-9b42-a3fa6e771bb9",
   "metadata": {},
   "outputs": [],
   "source": [
    "import os"
   ]
  },
  {
   "cell_type": "code",
   "execution_count": 16,
   "id": "8ba9b3f7-b2d6-4e68-b720-78b601356bb1",
   "metadata": {},
   "outputs": [],
   "source": [
    "response = client.chat.completions.create(\n",
    "    model='gpt-4o',\n",
    "    messages=[{\"role\": \"user\", \"content\": \"is it too late to join the course?\"}]\n",
    ")"
   ]
  },
  {
   "cell_type": "code",
   "execution_count": 20,
   "id": "651adcc9-fa4d-408a-a112-222d8142b627",
   "metadata": {},
   "outputs": [
    {
     "data": {
      "text/plain": [
       "\"It's never too late to inquire about joining a course! Course enrollment policies can vary significantly depending on the institution, the type of course, and its schedule. Here are some steps you can take:\\n\\n1. **Check Enrollment Dates:** Look up the course or contact the institution to find out important deadlines for enrollment.\\n2. **Contact the Instructor/Department:** Sometimes exceptions can be made, especially if the course has just started.\\n3. **Late Registration:** Many institutions allow for late registration with a possible late fee.\\n4. **Audit Option:** If you missed the enrollment deadline, you might still be able to sit in on the class as an auditor.\\n5. **Future Sessions:** Inquire if the course will be offered again in the near future.\\n\\nReach out promptly and explain your interest. Good luck!\""
      ]
     },
     "execution_count": 20,
     "metadata": {},
     "output_type": "execute_result"
    }
   ],
   "source": [
    "response.choices[0].message.content"
   ]
  }
 ],
 "metadata": {
  "kernelspec": {
   "display_name": "Python 3 (ipykernel)",
   "language": "python",
   "name": "python3"
  },
  "language_info": {
   "codemirror_mode": {
    "name": "ipython",
    "version": 3
   },
   "file_extension": ".py",
   "mimetype": "text/x-python",
   "name": "python",
   "nbconvert_exporter": "python",
   "pygments_lexer": "ipython3",
   "version": "3.10.13"
  }
 },
 "nbformat": 4,
 "nbformat_minor": 5
}
